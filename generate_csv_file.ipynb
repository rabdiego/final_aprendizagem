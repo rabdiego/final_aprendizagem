{
 "cells": [
  {
   "attachments": {},
   "cell_type": "markdown",
   "metadata": {},
   "source": [
    "## Importando os módulos"
   ]
  },
  {
   "cell_type": "code",
   "execution_count": 82,
   "metadata": {},
   "outputs": [],
   "source": [
    "import os\n",
    "import numpy as np\n",
    "import cv2\n",
    "import matplotlib.pyplot as plt\n",
    "from tqdm import tqdm\n",
    "from skimage.filters import prewitt_h, prewitt_v"
   ]
  },
  {
   "attachments": {},
   "cell_type": "markdown",
   "metadata": {},
   "source": [
    "## Definindo a função"
   ]
  },
  {
   "cell_type": "code",
   "execution_count": 75,
   "metadata": {},
   "outputs": [],
   "source": [
    "def get_features(image : np.ndarray) -> np.ndarray:\n",
    "    \"\"\"\n",
    "    Aqui, geramos os atributos propostos no artigo\n",
    "    de uma imagem.\n",
    "    \n",
    "    Args:\n",
    "        image : Imagem a ter os atributos extraídos, sendo um vetor\n",
    "                numpy de dimensões (a, b, 3), para quaisquer a e b\n",
    "                inteiros.\n",
    "    \n",
    "    Returns:\n",
    "        features : Vetor de dimensão 10 com os atributos extraídos.\n",
    "    \"\"\"\n",
    "    features : np.ndarray = np.zeros(10)\n",
    "    image_bw : np.ndarray = np.mean(image, axis=2)\n",
    "    image_filtered_h : np.ndarray = np.abs(prewitt_h(image_bw))\n",
    "    image_filtered_v : np.ndarray = np.abs(prewitt_v(image_bw))\n",
    "    features[0] = np.mean(image[:, :, 0])\n",
    "    features[1] = np.mean(image[:, :, 1])\n",
    "    features[2] = np.mean(image[:, :, 2])\n",
    "    features[3] = np.std(image[:, :, 0])\n",
    "    features[4] = np.std(image[:, :, 1])\n",
    "    features[5] = np.std(image[:, :, 2])\n",
    "    features[6] = np.mean(image_filtered_h)\n",
    "    features[7] = np.mean(image_filtered_v)\n",
    "    features[8] = np.std(image_filtered_h)\n",
    "    features[9] = np.std(image_filtered_v)\n",
    "    return features  \n",
    "    "
   ]
  },
  {
   "attachments": {},
   "cell_type": "markdown",
   "metadata": {},
   "source": [
    "## Gerando os dados de imagens borradas"
   ]
  },
  {
   "attachments": {},
   "cell_type": "markdown",
   "metadata": {},
   "source": [
    "### Desfocadas"
   ]
  },
  {
   "cell_type": "code",
   "execution_count": 86,
   "metadata": {},
   "outputs": [
    {
     "name": "stderr",
     "output_type": "stream",
     "text": [
      "350it [00:20, 16.81it/s]\n",
      "350it [00:20, 17.00it/s]\n",
      "699it [00:19, 35.10it/s]\n"
     ]
    }
   ],
   "source": [
    "with open('./datasets/data.csv', 'w') as dataset:\n",
    "    dataset.write('r_mean,g_mean,b_mean,r_std,g_std,b_std,h_mean,v_mean,h_std,v_std,quality\\n')\n",
    "    \n",
    "    for index, image in tqdm(enumerate(os.listdir('imagens/blur_dataset_scaled/defocused_blurred'))):\n",
    "        img = cv2.imread('imagens/blur_dataset_scaled/defocused_blurred/' + image)\n",
    "        img= cv2.cvtColor(img, cv2.COLOR_BGR2RGB)\n",
    "        img = cv2.resize(img, (512, 512))\n",
    "        features = get_features(img)\n",
    "        dataset.write(f'{features[0]},{features[1]},{features[2]},{features[3]},{features[4]},{features[5]},{features[6]},{features[7]},{features[8]},{features[9]},0\\n')\n",
    "    \n",
    "    for index, image in tqdm(enumerate(os.listdir('imagens/blur_dataset_scaled/motion_blurred'))):\n",
    "        img = cv2.imread('imagens/blur_dataset_scaled/motion_blurred/' + image)\n",
    "        img= cv2.cvtColor(img, cv2.COLOR_BGR2RGB)\n",
    "        img = cv2.resize(img, (512, 512))\n",
    "        features = get_features(img)\n",
    "        dataset.write(f'{features[0]},{features[1]},{features[2]},{features[3]},{features[4]},{features[5]},{features[6]},{features[7]},{features[8]},{features[9]},0\\n')\n",
    "    \n",
    "    for index, image in tqdm(enumerate(os.listdir('imagens/flickr30k_images/flickr30k_images/flickr30k_images'))):\n",
    "        img = cv2.imread('imagens/flickr30k_images/flickr30k_images/flickr30k_images/' + image)\n",
    "        img= cv2.cvtColor(img, cv2.COLOR_BGR2RGB)\n",
    "        img = cv2.resize(img, (512, 512))\n",
    "        features = get_features(img)\n",
    "        dataset.write(f'{features[0]},{features[1]},{features[2]},{features[3]},{features[4]},{features[5]},{features[6]},{features[7]},{features[8]},{features[9]},1\\n')\n",
    "        if index >= 699:\n",
    "            break\n",
    "        "
   ]
  }
 ],
 "metadata": {
  "kernelspec": {
   "display_name": "Python 3",
   "language": "python",
   "name": "python3"
  },
  "language_info": {
   "codemirror_mode": {
    "name": "ipython",
    "version": 3
   },
   "file_extension": ".py",
   "mimetype": "text/x-python",
   "name": "python",
   "nbconvert_exporter": "python",
   "pygments_lexer": "ipython3",
   "version": "3.8.10"
  },
  "orig_nbformat": 4
 },
 "nbformat": 4,
 "nbformat_minor": 2
}
