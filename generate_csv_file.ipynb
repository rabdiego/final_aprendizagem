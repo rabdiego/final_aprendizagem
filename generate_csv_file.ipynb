{
 "cells": [
  {
   "attachments": {},
   "cell_type": "markdown",
   "metadata": {},
   "source": [
    "## Importando os módulos"
   ]
  },
  {
   "cell_type": "code",
   "execution_count": 1,
   "metadata": {},
   "outputs": [],
   "source": [
    "import os\n",
    "import numpy as np\n",
    "import cv2\n",
    "import matplotlib.pyplot as plt\n",
    "from tqdm import tqdm\n",
    "from skimage.filters import prewitt_h, prewitt_v"
   ]
  },
  {
   "attachments": {},
   "cell_type": "markdown",
   "metadata": {},
   "source": [
    "## Definindo a função"
   ]
  },
  {
   "cell_type": "code",
   "execution_count": 3,
   "metadata": {},
   "outputs": [],
   "source": [
    "def get_features(image : np.ndarray, width : int, height : int) -> np.ndarray:\n",
    "    \"\"\"\n",
    "    Aqui, geramos os atributos propostos no artigo\n",
    "    de uma imagem.\n",
    "    \n",
    "    Args:\n",
    "        image : Imagem a ter os atributos extraídos, sendo um vetor\n",
    "                numpy de dimensões (a, b, 3), para quaisquer a e b\n",
    "                inteiros.\n",
    "        \n",
    "        width : Dimensão do comprimento após o redimensionamento da\n",
    "                imagem\n",
    "        \n",
    "        height : Dimensão da altura após o redimensionamento da\n",
    "                imagem\n",
    "    \n",
    "    Returns:\n",
    "        features : Vetor de dimensão 10 com os atributos extraídos.\n",
    "    \"\"\"\n",
    "    image = cv2.resize(image, (width, height))\n",
    "    features : np.ndarray = np.zeros(10)\n",
    "    image_bw : np.ndarray = np.mean(image, axis=2)\n",
    "    image_filtered_h : np.ndarray = np.abs(prewitt_h(image_bw))\n",
    "    image_filtered_v : np.ndarray = np.abs(prewitt_v(image_bw))\n",
    "    features[0] = np.mean(image[:, :, 0])\n",
    "    features[1] = np.mean(image[:, :, 1])\n",
    "    features[2] = np.mean(image[:, :, 2])\n",
    "    features[3] = np.std(image[:, :, 0])\n",
    "    features[4] = np.std(image[:, :, 1])\n",
    "    features[5] = np.std(image[:, :, 2])\n",
    "    features[6] = np.mean(image_filtered_h)\n",
    "    features[7] = np.mean(image_filtered_v)\n",
    "    features[8] = np.std(image_filtered_h)\n",
    "    features[9] = np.std(image_filtered_v)\n",
    "    return features  \n",
    "    "
   ]
  },
  {
   "attachments": {},
   "cell_type": "markdown",
   "metadata": {},
   "source": [
    "## Gerando os dados de imagens borradas"
   ]
  },
  {
   "attachments": {},
   "cell_type": "markdown",
   "metadata": {},
   "source": [
    "### Desfocadas"
   ]
  },
  {
   "cell_type": "code",
   "execution_count": 6,
   "metadata": {},
   "outputs": [
    {
     "name": "stderr",
     "output_type": "stream",
     "text": [
      "700it [00:17, 39.86it/s]\n",
      "350it [00:19, 17.77it/s]\n",
      "350it [00:19, 18.01it/s]\n",
      "350it [00:09, 37.17it/s]\n",
      "350it [00:08, 40.99it/s]\n"
     ]
    }
   ],
   "source": [
    "with open('./datasets/data.csv', 'w') as dataset:\n",
    "    dataset.write('filename,r_mean,g_mean,b_mean,r_std,g_std,b_std,h_mean,v_mean,h_std,v_std,quality\\n')\n",
    "    \n",
    "    for index, image in tqdm(enumerate(os.listdir('imagens/selecionadas/boa_qualidade/'))):\n",
    "        img = cv2.imread('imagens/selecionadas/boa_qualidade/' + image)\n",
    "        img= cv2.cvtColor(img, cv2.COLOR_BGR2RGB)\n",
    "        features = get_features(img, 512, 512)\n",
    "        dataset.write(f'imagens/selecionadas/boa_qualidade/{image},{features[0]},{features[1]},{features[2]},{features[3]},{features[4]},{features[5]},{features[6]},{features[7]},{features[8]},{features[9]},1\\n')\n",
    "    \n",
    "    for index, image in tqdm(enumerate(os.listdir('imagens/selecionadas/desfoque/'))):\n",
    "        img = cv2.imread('imagens/selecionadas/desfoque/' + image)\n",
    "        img= cv2.cvtColor(img, cv2.COLOR_BGR2RGB)\n",
    "        features = get_features(img, 512, 512)\n",
    "        dataset.write(f'imagens/selecionadas/desfoque/{image},{features[0]},{features[1]},{features[2]},{features[3]},{features[4]},{features[5]},{features[6]},{features[7]},{features[8]},{features[9]},0\\n')\n",
    "    \n",
    "    for index, image in tqdm(enumerate(os.listdir('imagens/selecionadas/movimento/'))):\n",
    "        img = cv2.imread('imagens/selecionadas/movimento/' + image)\n",
    "        img= cv2.cvtColor(img, cv2.COLOR_BGR2RGB)\n",
    "        features = get_features(img, 512, 512)\n",
    "        dataset.write(f'imagens/selecionadas/movimento/{image},{features[0]},{features[1]},{features[2]},{features[3]},{features[4]},{features[5]},{features[6]},{features[7]},{features[8]},{features[9]},0\\n')\n",
    "    \n",
    "    for index, image in tqdm(enumerate(os.listdir('imagens/selecionadas/escuras_boas/'))):\n",
    "        img = cv2.imread('imagens/selecionadas/escuras_boas/' + image)\n",
    "        img= cv2.cvtColor(img, cv2.COLOR_BGR2RGB)\n",
    "        features = get_features(img, 512, 512)\n",
    "        dataset.write(f'imagens/selecionadas/escuras_boas/{image},{features[0]},{features[1]},{features[2]},{features[3]},{features[4]},{features[5]},{features[6]},{features[7]},{features[8]},{features[9]},1\\n')\n",
    "    \n",
    "    for index, image in tqdm(enumerate(os.listdir('imagens/selecionadas/escuras_ruins/'))):\n",
    "        img = cv2.imread('imagens/selecionadas/escuras_ruins/' + image)\n",
    "        img= cv2.cvtColor(img, cv2.COLOR_BGR2RGB)\n",
    "        features = get_features(img, 512, 512)\n",
    "        dataset.write(f'imagens/selecionadas/escuras_ruins/{image},{features[0]},{features[1]},{features[2]},{features[3]},{features[4]},{features[5]},{features[6]},{features[7]},{features[8]},{features[9]},0\\n')\n",
    "\n",
    "        "
   ]
  }
 ],
 "metadata": {
  "kernelspec": {
   "display_name": "Python 3",
   "language": "python",
   "name": "python3"
  },
  "language_info": {
   "codemirror_mode": {
    "name": "ipython",
    "version": 3
   },
   "file_extension": ".py",
   "mimetype": "text/x-python",
   "name": "python",
   "nbconvert_exporter": "python",
   "pygments_lexer": "ipython3",
   "version": "3.8.10"
  },
  "orig_nbformat": 4
 },
 "nbformat": 4,
 "nbformat_minor": 2
}
