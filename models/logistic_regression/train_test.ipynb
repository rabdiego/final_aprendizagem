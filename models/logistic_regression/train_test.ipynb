{
 "cells": [
  {
   "attachments": {},
   "cell_type": "markdown",
   "metadata": {},
   "source": [
    "## Importing initial modules"
   ]
  },
  {
   "cell_type": "code",
   "execution_count": 1,
   "metadata": {},
   "outputs": [],
   "source": [
    "import numpy as np\n",
    "import pandas as pd\n",
    "import matplotlib.pyplot as plt\n",
    "import seaborn as sns"
   ]
  },
  {
   "attachments": {},
   "cell_type": "markdown",
   "metadata": {},
   "source": [
    "## Importing data"
   ]
  },
  {
   "attachments": {},
   "cell_type": "markdown",
   "metadata": {},
   "source": [
    "### Initializing dataframe"
   ]
  },
  {
   "cell_type": "code",
   "execution_count": 2,
   "metadata": {},
   "outputs": [
    {
     "data": {
      "text/html": [
       "<div>\n",
       "<style scoped>\n",
       "    .dataframe tbody tr th:only-of-type {\n",
       "        vertical-align: middle;\n",
       "    }\n",
       "\n",
       "    .dataframe tbody tr th {\n",
       "        vertical-align: top;\n",
       "    }\n",
       "\n",
       "    .dataframe thead th {\n",
       "        text-align: right;\n",
       "    }\n",
       "</style>\n",
       "<table border=\"1\" class=\"dataframe\">\n",
       "  <thead>\n",
       "    <tr style=\"text-align: right;\">\n",
       "      <th></th>\n",
       "      <th>filename</th>\n",
       "      <th>r_mean</th>\n",
       "      <th>g_mean</th>\n",
       "      <th>b_mean</th>\n",
       "      <th>r_std</th>\n",
       "      <th>g_std</th>\n",
       "      <th>b_std</th>\n",
       "      <th>h_mean</th>\n",
       "      <th>v_mean</th>\n",
       "      <th>h_std</th>\n",
       "      <th>v_std</th>\n",
       "      <th>quality</th>\n",
       "    </tr>\n",
       "  </thead>\n",
       "  <tbody>\n",
       "    <tr>\n",
       "      <th>0</th>\n",
       "      <td>imagens/selecionadas/boa_qualidade/3391453209.jpg</td>\n",
       "      <td>132.609966</td>\n",
       "      <td>121.227249</td>\n",
       "      <td>124.231548</td>\n",
       "      <td>77.783824</td>\n",
       "      <td>69.308145</td>\n",
       "      <td>67.421205</td>\n",
       "      <td>13.189166</td>\n",
       "      <td>13.277505</td>\n",
       "      <td>20.334358</td>\n",
       "      <td>21.528245</td>\n",
       "      <td>1</td>\n",
       "    </tr>\n",
       "    <tr>\n",
       "      <th>1</th>\n",
       "      <td>imagens/selecionadas/boa_qualidade/3274691778.jpg</td>\n",
       "      <td>66.165817</td>\n",
       "      <td>44.555141</td>\n",
       "      <td>16.569908</td>\n",
       "      <td>69.099801</td>\n",
       "      <td>57.499889</td>\n",
       "      <td>38.438030</td>\n",
       "      <td>5.298978</td>\n",
       "      <td>7.668856</td>\n",
       "      <td>10.649066</td>\n",
       "      <td>16.816179</td>\n",
       "      <td>1</td>\n",
       "    </tr>\n",
       "    <tr>\n",
       "      <th>2</th>\n",
       "      <td>imagens/selecionadas/boa_qualidade/3363342011.jpg</td>\n",
       "      <td>77.994858</td>\n",
       "      <td>70.928452</td>\n",
       "      <td>81.287174</td>\n",
       "      <td>95.512351</td>\n",
       "      <td>83.056987</td>\n",
       "      <td>65.150531</td>\n",
       "      <td>4.711894</td>\n",
       "      <td>7.193683</td>\n",
       "      <td>8.418819</td>\n",
       "      <td>13.501021</td>\n",
       "      <td>1</td>\n",
       "    </tr>\n",
       "    <tr>\n",
       "      <th>3</th>\n",
       "      <td>imagens/selecionadas/boa_qualidade/3359563671.jpg</td>\n",
       "      <td>75.615658</td>\n",
       "      <td>79.028858</td>\n",
       "      <td>88.636810</td>\n",
       "      <td>38.806435</td>\n",
       "      <td>37.705454</td>\n",
       "      <td>40.135014</td>\n",
       "      <td>3.963080</td>\n",
       "      <td>5.991780</td>\n",
       "      <td>9.907831</td>\n",
       "      <td>13.684910</td>\n",
       "      <td>1</td>\n",
       "    </tr>\n",
       "    <tr>\n",
       "      <th>4</th>\n",
       "      <td>imagens/selecionadas/boa_qualidade/3307667255.jpg</td>\n",
       "      <td>112.128551</td>\n",
       "      <td>98.476761</td>\n",
       "      <td>86.907909</td>\n",
       "      <td>67.015909</td>\n",
       "      <td>65.093914</td>\n",
       "      <td>64.762853</td>\n",
       "      <td>8.664269</td>\n",
       "      <td>14.697718</td>\n",
       "      <td>14.127406</td>\n",
       "      <td>23.532887</td>\n",
       "      <td>1</td>\n",
       "    </tr>\n",
       "    <tr>\n",
       "      <th>...</th>\n",
       "      <td>...</td>\n",
       "      <td>...</td>\n",
       "      <td>...</td>\n",
       "      <td>...</td>\n",
       "      <td>...</td>\n",
       "      <td>...</td>\n",
       "      <td>...</td>\n",
       "      <td>...</td>\n",
       "      <td>...</td>\n",
       "      <td>...</td>\n",
       "      <td>...</td>\n",
       "      <td>...</td>\n",
       "    </tr>\n",
       "    <tr>\n",
       "      <th>2095</th>\n",
       "      <td>imagens/selecionadas/escuras_ruins/2015_03985.jpg</td>\n",
       "      <td>25.093895</td>\n",
       "      <td>24.500557</td>\n",
       "      <td>22.681580</td>\n",
       "      <td>24.635103</td>\n",
       "      <td>23.453142</td>\n",
       "      <td>22.314595</td>\n",
       "      <td>1.650287</td>\n",
       "      <td>1.694096</td>\n",
       "      <td>5.943454</td>\n",
       "      <td>8.405698</td>\n",
       "      <td>0</td>\n",
       "    </tr>\n",
       "    <tr>\n",
       "      <th>2096</th>\n",
       "      <td>imagens/selecionadas/escuras_ruins/2015_05839.jpg</td>\n",
       "      <td>16.278244</td>\n",
       "      <td>16.098171</td>\n",
       "      <td>16.927536</td>\n",
       "      <td>26.044997</td>\n",
       "      <td>25.645297</td>\n",
       "      <td>23.383744</td>\n",
       "      <td>0.821251</td>\n",
       "      <td>0.943275</td>\n",
       "      <td>3.102364</td>\n",
       "      <td>3.638713</td>\n",
       "      <td>0</td>\n",
       "    </tr>\n",
       "    <tr>\n",
       "      <th>2097</th>\n",
       "      <td>imagens/selecionadas/escuras_ruins/2015_00176.jpg</td>\n",
       "      <td>40.049698</td>\n",
       "      <td>12.688789</td>\n",
       "      <td>3.469101</td>\n",
       "      <td>37.774832</td>\n",
       "      <td>21.465189</td>\n",
       "      <td>8.702481</td>\n",
       "      <td>3.820762</td>\n",
       "      <td>3.532297</td>\n",
       "      <td>7.436229</td>\n",
       "      <td>7.322762</td>\n",
       "      <td>0</td>\n",
       "    </tr>\n",
       "    <tr>\n",
       "      <th>2098</th>\n",
       "      <td>imagens/selecionadas/escuras_ruins/2015_03045.png</td>\n",
       "      <td>29.009560</td>\n",
       "      <td>26.468601</td>\n",
       "      <td>24.881416</td>\n",
       "      <td>42.588287</td>\n",
       "      <td>41.339594</td>\n",
       "      <td>40.756837</td>\n",
       "      <td>1.746537</td>\n",
       "      <td>3.285583</td>\n",
       "      <td>5.360037</td>\n",
       "      <td>10.139739</td>\n",
       "      <td>0</td>\n",
       "    </tr>\n",
       "    <tr>\n",
       "      <th>2099</th>\n",
       "      <td>imagens/selecionadas/escuras_ruins/2015_06299.jpg</td>\n",
       "      <td>27.173588</td>\n",
       "      <td>22.643929</td>\n",
       "      <td>15.746021</td>\n",
       "      <td>61.133050</td>\n",
       "      <td>54.813457</td>\n",
       "      <td>46.198317</td>\n",
       "      <td>5.636328</td>\n",
       "      <td>5.912169</td>\n",
       "      <td>17.975795</td>\n",
       "      <td>18.929955</td>\n",
       "      <td>0</td>\n",
       "    </tr>\n",
       "  </tbody>\n",
       "</table>\n",
       "<p>2100 rows × 12 columns</p>\n",
       "</div>"
      ],
      "text/plain": [
       "                                               filename      r_mean  \\\n",
       "0     imagens/selecionadas/boa_qualidade/3391453209.jpg  132.609966   \n",
       "1     imagens/selecionadas/boa_qualidade/3274691778.jpg   66.165817   \n",
       "2     imagens/selecionadas/boa_qualidade/3363342011.jpg   77.994858   \n",
       "3     imagens/selecionadas/boa_qualidade/3359563671.jpg   75.615658   \n",
       "4     imagens/selecionadas/boa_qualidade/3307667255.jpg  112.128551   \n",
       "...                                                 ...         ...   \n",
       "2095  imagens/selecionadas/escuras_ruins/2015_03985.jpg   25.093895   \n",
       "2096  imagens/selecionadas/escuras_ruins/2015_05839.jpg   16.278244   \n",
       "2097  imagens/selecionadas/escuras_ruins/2015_00176.jpg   40.049698   \n",
       "2098  imagens/selecionadas/escuras_ruins/2015_03045.png   29.009560   \n",
       "2099  imagens/selecionadas/escuras_ruins/2015_06299.jpg   27.173588   \n",
       "\n",
       "          g_mean      b_mean      r_std      g_std      b_std     h_mean  \\\n",
       "0     121.227249  124.231548  77.783824  69.308145  67.421205  13.189166   \n",
       "1      44.555141   16.569908  69.099801  57.499889  38.438030   5.298978   \n",
       "2      70.928452   81.287174  95.512351  83.056987  65.150531   4.711894   \n",
       "3      79.028858   88.636810  38.806435  37.705454  40.135014   3.963080   \n",
       "4      98.476761   86.907909  67.015909  65.093914  64.762853   8.664269   \n",
       "...          ...         ...        ...        ...        ...        ...   \n",
       "2095   24.500557   22.681580  24.635103  23.453142  22.314595   1.650287   \n",
       "2096   16.098171   16.927536  26.044997  25.645297  23.383744   0.821251   \n",
       "2097   12.688789    3.469101  37.774832  21.465189   8.702481   3.820762   \n",
       "2098   26.468601   24.881416  42.588287  41.339594  40.756837   1.746537   \n",
       "2099   22.643929   15.746021  61.133050  54.813457  46.198317   5.636328   \n",
       "\n",
       "         v_mean      h_std      v_std  quality  \n",
       "0     13.277505  20.334358  21.528245        1  \n",
       "1      7.668856  10.649066  16.816179        1  \n",
       "2      7.193683   8.418819  13.501021        1  \n",
       "3      5.991780   9.907831  13.684910        1  \n",
       "4     14.697718  14.127406  23.532887        1  \n",
       "...         ...        ...        ...      ...  \n",
       "2095   1.694096   5.943454   8.405698        0  \n",
       "2096   0.943275   3.102364   3.638713        0  \n",
       "2097   3.532297   7.436229   7.322762        0  \n",
       "2098   3.285583   5.360037  10.139739        0  \n",
       "2099   5.912169  17.975795  18.929955        0  \n",
       "\n",
       "[2100 rows x 12 columns]"
      ]
     },
     "execution_count": 2,
     "metadata": {},
     "output_type": "execute_result"
    }
   ],
   "source": [
    "df = pd.read_csv('../../datasets/data.csv')\n",
    "df"
   ]
  },
  {
   "attachments": {},
   "cell_type": "markdown",
   "metadata": {},
   "source": [
    "### Extracting values"
   ]
  },
  {
   "cell_type": "code",
   "execution_count": 9,
   "metadata": {},
   "outputs": [
    {
     "data": {
      "text/plain": [
       "array([[132.60996627807617, 121.2272491455078, 124.23154830932616, ...,\n",
       "        20.33435781353391, 21.528245420585083, 1],\n",
       "       [66.16581726074219, 44.55514144897461, 16.569908142089844, ...,\n",
       "        10.64906572488824, 16.81617933214178, 1],\n",
       "       [77.99485778808594, 70.92845153808594, 81.28717422485352, ...,\n",
       "        8.418819063683571, 13.501020974090835, 1],\n",
       "       ...,\n",
       "       [40.04969787597656, 12.68878936767578, 3.469100952148437, ...,\n",
       "        7.436229488147357, 7.322762018687869, 0],\n",
       "       [29.009559631347656, 26.46860122680664, 24.88141632080078, ...,\n",
       "        5.360037346924504, 10.139738789951233, 0],\n",
       "       [27.173587799072266, 22.64392852783203, 15.746021270751951, ...,\n",
       "        17.975794737295793, 18.929955141119184, 0]], dtype=object)"
      ]
     },
     "execution_count": 9,
     "metadata": {},
     "output_type": "execute_result"
    }
   ],
   "source": [
    "data = (df.values)[:, 1:]\n",
    "data"
   ]
  },
  {
   "attachments": {},
   "cell_type": "markdown",
   "metadata": {},
   "source": [
    "### Splitting into attributes and targets"
   ]
  },
  {
   "cell_type": "code",
   "execution_count": 13,
   "metadata": {},
   "outputs": [],
   "source": [
    "attributes = data[:, :-1]\n",
    "targets = data[:, -1]"
   ]
  },
  {
   "attachments": {},
   "cell_type": "markdown",
   "metadata": {},
   "source": [
    "## Training model"
   ]
  },
  {
   "attachments": {},
   "cell_type": "markdown",
   "metadata": {},
   "source": [
    "### Modifying sklearn Logistic Regression module to support polynomial features"
   ]
  },
  {
   "cell_type": "code",
   "execution_count": 40,
   "metadata": {},
   "outputs": [],
   "source": [
    "from typing import Literal, Mapping\n",
    "from numpy import ndarray\n",
    "from sklearn.linear_model import LogisticRegression\n",
    "from sklearn.preprocessing import PolynomialFeatures\n",
    "\n",
    "class PolynomialLogisticRegression(LogisticRegression):\n",
    "    def __init__(self, penalty: Literal['l1', 'l2', 'elasticnet'] = \"l2\", *, dual: bool = False, tol = 0.0001, C = 1, fit_intercept: bool = True, intercept_scaling = 1, class_weight: Mapping = None, random_state = None, solver: Literal['lbfgs', 'liblinear', 'newton-cg', 'newton-cholesky', 'sag', 'saga'] = \"lbfgs\", max_iter = 100, multi_class: Literal['auto', 'ovr', 'multinomial'] = \"auto\", verbose = 0, warm_start: bool = False, n_jobs = None, l1_ratio = None, degree = 1) -> None:\n",
    "        super().__init__(penalty, dual=dual, tol=tol, C=C, fit_intercept=fit_intercept, intercept_scaling=intercept_scaling, class_weight=class_weight, random_state=random_state, solver=solver, max_iter=max_iter, multi_class=multi_class, verbose=verbose, warm_start=warm_start, n_jobs=n_jobs, l1_ratio=l1_ratio)\n",
    "        self.degree = degree\n",
    "    \n",
    "    \n",
    "    def fit(self, X, y, sample_weight = None):\n",
    "        poly = PolynomialFeatures(self.degree, interaction_only=True)\n",
    "        X = poly.fit_transform(X)\n",
    "        return super().fit(X, y, sample_weight)\n",
    "    \n",
    "    \n",
    "    def predict(self, X) -> ndarray:\n",
    "        poly = PolynomialFeatures(self.degree, interaction_only=True)\n",
    "        X = poly.fit_transform(X)\n",
    "        return super().predict(X)"
   ]
  },
  {
   "attachments": {},
   "cell_type": "markdown",
   "metadata": {},
   "source": [
    "### Setting parameter grid for Grid Search CV"
   ]
  },
  {
   "cell_type": "code",
   "execution_count": 90,
   "metadata": {},
   "outputs": [],
   "source": [
    "parameters = {\n",
    "    'penalty' : ('l2', None),\n",
    "    'degree' : range(1, 10),\n",
    "    'random_state' : [0]\n",
    "}"
   ]
  },
  {
   "attachments": {},
   "cell_type": "markdown",
   "metadata": {},
   "source": [
    "### Training and collecting scores"
   ]
  },
  {
   "cell_type": "code",
   "execution_count": 93,
   "metadata": {},
   "outputs": [
    {
     "name": "stderr",
     "output_type": "stream",
     "text": [
      "5it [02:41, 32.24s/it]\n"
     ]
    }
   ],
   "source": [
    "from sklearn.model_selection import KFold, GridSearchCV, cross_val_score\n",
    "from sklearn.preprocessing import MinMaxScaler\n",
    "from sklearn.metrics import accuracy_score, precision_score, recall_score, f1_score, confusion_matrix\n",
    "from tqdm import tqdm\n",
    "import warnings\n",
    "\n",
    "warnings.filterwarnings('ignore')\n",
    "\n",
    "folder = KFold(n_splits=5, random_state=0, shuffle=True)\n",
    "scaler = MinMaxScaler()\n",
    "\n",
    "metrics = np.zeros((5, 6))\n",
    "\n",
    "for i, (train_index, test_index) in tqdm(enumerate(folder.split(attributes))):\n",
    "    train_attributes, test_attributes, train_targets, test_targets = (\n",
    "        attributes[train_index],\n",
    "        attributes[test_index],\n",
    "        targets[train_index],\n",
    "        targets[test_index]\n",
    "    )\n",
    "    \n",
    "    train_targets = train_targets.astype(float)\n",
    "    test_targets = test_targets.astype(float)\n",
    "    \n",
    "    normal_train_attributes = scaler.fit_transform(train_attributes)\n",
    "    normal_test_attributes = scaler.transform(test_attributes)\n",
    "    \n",
    "    model = PolynomialLogisticRegression()\n",
    "    cv = GridSearchCV(estimator=model, param_grid=parameters, cv=5)\n",
    "    \n",
    "    cv.fit(normal_train_attributes, train_targets)\n",
    "    \n",
    "    model = cv.best_estimator_\n",
    "    model.fit(normal_train_attributes, train_targets)\n",
    "    \n",
    "    prediction = model.predict(normal_test_attributes)\n",
    "    \n",
    "    acc = accuracy_score(test_targets, prediction)\n",
    "    cm = confusion_matrix(test_targets, prediction, normalize='true')\n",
    "    prec = precision_score(test_targets, prediction)\n",
    "    rec = recall_score(test_targets, prediction)\n",
    "    f1 = f1_score(test_targets, prediction)\n",
    "    \n",
    "    metrics[i] = np.array([acc, cm[0][0], cm[1][1], prec, rec, f1]).astype(float)"
   ]
  },
  {
   "attachments": {},
   "cell_type": "markdown",
   "metadata": {},
   "source": [
    "## Plot das métricas"
   ]
  },
  {
   "cell_type": "code",
   "execution_count": 111,
   "metadata": {},
   "outputs": [
    {
     "data": {
      "image/png": "[encoded data removed]",
      "text/plain": [
       "<Figure size 1600x400 with 6 Axes>"
      ]
     },
     "metadata": {},
     "output_type": "display_data"
    }
   ],
   "source": [
    "fig, ax = plt.subplots(1, 3, figsize=(16, 4))\n",
    "\n",
    "xlabels = ['Accuracy', 'Acc [0]', 'Acc [1]', 'Precision', 'Recall', 'F1-Score']\n",
    "\n",
    "per_fold = sns.heatmap(metrics, annot=True, xticklabels=xlabels, yticklabels=range(1, 6), ax=ax[0], cmap='PuBuGn')\n",
    "means = sns.heatmap(np.mean(metrics, axis=0).reshape(1, -1), annot=True, xticklabels=xlabels, ax=ax[1], cmap='PuBuGn')\n",
    "stds = sns.heatmap(np.std(metrics, axis=0).reshape(1, -1), annot=True, xticklabels=xlabels, ax=ax[2], cmap='PuBuGn')\n",
    "\n",
    "ax[0].set_title('Métricas durante as partições')\n",
    "ax[1].set_title('Média das métricas')\n",
    "ax[2].set_title('Desvio padrão das métricas')\n",
    "\n",
    "fig.savefig('./charts/metrics.svg')"
   ]
  },
  {
   "cell_type": "code",
   "execution_count": null,
   "metadata": {},
   "outputs": [],
   "source": []
  }
 ],
 "metadata": {
  "kernelspec": {
   "display_name": "Python 3",
   "language": "python",
   "name": "python3"
  },
  "language_info": {
   "codemirror_mode": {
    "name": "ipython",
    "version": 3
   },
   "file_extension": ".py",
   "mimetype": "text/x-python",
   "name": "python",
   "nbconvert_exporter": "python",
   "pygments_lexer": "ipython3",
   "version": "3.8.10"
  },
  "orig_nbformat": 4
 },
 "nbformat": 4,
 "nbformat_minor": 2
}
